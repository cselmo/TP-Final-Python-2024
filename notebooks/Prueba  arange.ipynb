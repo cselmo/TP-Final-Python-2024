{
 "cells": [
  {
   "cell_type": "markdown",
   "id": "00559f12-a55e-4ebc-ab32-ea4bea4a66bd",
   "metadata": {},
   "source": [
    "# Voy a probar la funcion arange de numpy"
   ]
  },
  {
   "cell_type": "code",
   "execution_count": 1,
   "id": "d53c95a4-bc38-49e5-a5b2-031a53ec20f1",
   "metadata": {},
   "outputs": [],
   "source": [
    "import numpy as np"
   ]
  },
  {
   "cell_type": "code",
   "execution_count": 2,
   "id": "87a3afdc-9cdb-4c97-a970-eda0f51853e7",
   "metadata": {},
   "outputs": [
    {
     "data": {
      "text/plain": [
       "array([4, 5, 6])"
      ]
     },
     "execution_count": 2,
     "metadata": {},
     "output_type": "execute_result"
    }
   ],
   "source": [
    "np.arange(4, 7)"
   ]
  },
  {
   "cell_type": "code",
   "execution_count": null,
   "id": "e9caacb8-6169-4bb6-878c-e322ed99f91a",
   "metadata": {},
   "outputs": [],
   "source": []
  }
 ],
 "metadata": {
  "kernelspec": {
   "display_name": "Python 3 (ipykernel)",
   "language": "python",
   "name": "python3"
  },
  "language_info": {
   "codemirror_mode": {
    "name": "ipython",
    "version": 3
   },
   "file_extension": ".py",
   "mimetype": "text/x-python",
   "name": "python",
   "nbconvert_exporter": "python",
   "pygments_lexer": "ipython3",
   "version": "3.10.13"
  }
 },
 "nbformat": 4,
 "nbformat_minor": 5
}
