{
 "cells": [
  {
   "cell_type": "markdown",
   "id": "00559f12-a55e-4ebc-ab32-ea4bea4a66bd",
   "metadata": {},
   "source": [
    "## Esta es una notebook que simula el desarrollo parcial de un fragmento de código"
   ]
  },
  {
   "cell_type": "code",
   "execution_count": null,
   "id": "d53c95a4-bc38-49e5-a5b2-031a53ec20f1",
   "metadata": {},
   "outputs": [],
   "source": []
  }
 ],
 "metadata": {
  "kernelspec": {
   "display_name": "Python 3 (ipykernel)",
   "language": "python",
   "name": "python3"
  },
  "language_info": {
   "codemirror_mode": {
    "name": "ipython",
    "version": 3
   },
   "file_extension": ".py",
   "mimetype": "text/x-python",
   "name": "python",
   "nbconvert_exporter": "python",
   "pygments_lexer": "ipython3",
   "version": "3.10.13"
  }
 },
 "nbformat": 4,
 "nbformat_minor": 5
}
