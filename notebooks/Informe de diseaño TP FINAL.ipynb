{
 "cells": [
  {
   "cell_type": "markdown",
   "id": "f2f2a8aa-f01e-478c-9587-8f25421d4114",
   "metadata": {},
   "source": [
    "# TP FINAL Python ITBA"
   ]
  },
  {
   "cell_type": "code",
   "execution_count": null,
   "id": "3028bb2c-17e5-4b1b-a2fe-be6d4ad104a5",
   "metadata": {},
   "outputs": [],
   "source": []
  },
  {
   "cell_type": "code",
   "execution_count": null,
   "id": "9ab86ada-97b2-4d8d-aca6-c65cc347061e",
   "metadata": {},
   "outputs": [],
   "source": []
  }
 ],
 "metadata": {
  "kernelspec": {
   "display_name": "Python 3 (ipykernel)",
   "language": "python",
   "name": "python3"
  },
  "language_info": {
   "codemirror_mode": {
    "name": "ipython",
    "version": 3
   },
   "file_extension": ".py",
   "mimetype": "text/x-python",
   "name": "python",
   "nbconvert_exporter": "python",
   "pygments_lexer": "ipython3",
   "version": "3.10.13"
  }
 },
 "nbformat": 4,
 "nbformat_minor": 5
}
